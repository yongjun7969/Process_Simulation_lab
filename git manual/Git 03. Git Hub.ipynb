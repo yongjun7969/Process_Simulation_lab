{
 "cells": [
  {
   "cell_type": "markdown",
   "metadata": {},
   "source": [
    "# 03. Git Hub\n",
    "\n",
    "\n",
    "다룰 내용: 계정 생성 및 관리, Git 저장소 생성, 프로젝트를 기여하거나 받아들이기"
   ]
  },
  {
   "cell_type": "markdown",
   "metadata": {},
   "source": [
    "## 1. 가입하기\n",
    "\n",
    "1. GitHub 사이트에 접속하기 (https://github.com)\n",
    "2. `Sign up for GitHub` 클릭하기\n",
    "![github.com](fig3-1.png)\n",
    "3. 개인정보(이름, 이메일, 비밀번호, 매크로 확인) 입력하기\n",
    " * 이름의 경우 빈칸을 사용하면 안되며 다른 사용자와 중복 금지\n",
    " * GitHub 저장소의 링크가 `github.com/<사용자명>/<프로젝트명>` 으로 이루어지기 때문에 이름 설정을 할 때 유의 하여야 함\n",
    " * 입력한 이메일로 인증 메일이 수신되므로 정확한 이메일을 기재하여야 함\n",
    " * 매크로 확인 과정에서 귀여운 말을 똑바로 세우도록 돌려주면 됨\n",
    " * 일부 인터넷 프로그램은 매크로 확인 부분이 제대로 보여지지 않으므로 그럴 때는 다른 인터넷을 사용하도록 함(Internet Explorer 대신 Chrome 등을 권장)\n",
    "![sign up](fig3-2.png)\n",
    "4. Free/Pro 선택하기\n",
    " * 무료 계정으로도 GItHub 대부분의 기능을 사용할 수 있음\n",
    " * 무료 계정은 모든 사람이 읽을 수 있는 공개 프로젝트 혹은 자신만 읽을 수 있는 Private 프로젝트만 만들 수 있음\n",
    " * GitHub에 돈을 내면 비공개 프로젝트(협업)도 만들 수 있음\n",
    "![Free/Pro](fig3-3.png)\n",
    "5. 간단한 설문 참여하기\n",
    " * 건너뛰기도 가능함\n",
    "![question](fig3-4.png)\n",
    "6. 이메일 인증하기\n",
    "![verify](fig3-5.png)\n",
    "\n"
   ]
  },
  {
   "cell_type": "markdown",
   "metadata": {},
   "source": [
    "## 2. 프로젝트에 기여하기\n",
    "\n",
    "\n",
    "* GitHub 플로우 (프로젝트에 기여하는 방법)\n",
    " 1. 프로젝트를 `Fork`하기\n",
    " 2. `master` 기반으로 토픽 브랜치 만들기\n",
    "   * 토픽 브랜치: 프로젝트 원본인 마스터 브랜치에서 일부분을 새로 개선하여 프로젝트를 수정시키기 위한 발판\n",
    " 3. 토픽에 맞도록 수정하여 커밋하기\n",
    " 4. 자신의 GitHub 프로젝트에 브랜치를 `Push`하기\n",
    " 5. GitHub에 `Pull Request`생성하기\n",
    " 6. 사용자와 프로젝트 소유자가 토론하면서 그에 따라 계속 커밋하며 반복하기\n",
    " 7. 프로젝트 소유자는 `Pull Request`를 `Merge`하기\n",
    "![github flow1](fig3-6.png)\n",
    "![github flow2](fig3-7.png)\n",
    "\n",
    "\n",
    "\n",
    "* 프로젝트에 Fork 하기\n",
    " * 참여하고 싶은 프로젝트가 생기면 \"Fork\" 해야 함\n",
    " * Fork하면 GitHub이 프로젝트를 통째로 복사해줌\n",
    " * 복사본은 특정 폴더를 점유하여 네임스페이스를 가짐\n",
    " * 네임스페이스: 개체(여기서는 프로젝트 복사본)를 구분할 수 있는 단위이며 하나의 이름이 단 하나의 개체만을 가리키게 됨.\n",
    " * 프로젝트 페이지를 방문해서 오른쪽 꼭대기에 있는 `Fork`버튼을 클릭하면 됨\n",
    "![fork](fig3-8.png)\n",
    "![forking](fig3-9.png)\n",
    "![after fork](fig3-10.png)\n",
    "![comparing fork](fig3-11.png)\n",
    " * Fork를 하여 생긴 복사본은 사용자의 저장소에 저장됨\n",
    " * 어디서 Fork를 해온건지 알 수 있음\n",
    " * 자신의 프로젝트는 Fork할 수 없음\n",
    " * 프로젝트명에 `-1`이 붙은 이유는 기존 자신의 저장소에 동일한 이름의 프로젝트가 있기 때문\n",
    "\n",
    "\n",
    "* 토픽 브랜치 만들고 Publish 하기\n",
    " * GitHub Desktop에서 `Branch`-`New branch` (`Ctrl`+`Shift`+`N`)\n",
    "![new branch](fig3-12.png)\n",
    " * 토픽 브랜치의 이름을 입력하고 `Create branch` 클릭하기\n",
    " * `Publish branch`를 누르면 GitHub 저장소에 새로운 브랜치가 개설됨 (`Ctrl`+`P`)\n",
    "![publish branch](fig3-13.png)\n",
    "\n",
    "\n",
    "* 브랜치에서 수정 후 Commit 하기\n",
    " * 파일을 수정하거나 추가하면 Commit 기능이 활성화 됨\n",
    " * 커밋할 준비가 된 상태는 Staged\n",
    "![staged](fig3-14.png)\n",
    "\n",
    "\n",
    "\n",
    "* Pull Request 만들기\n",
    " Ctrl R\n",
    " \n",
    " 수정했다 헬렐레레"
   ]
  },
  {
   "cell_type": "code",
   "execution_count": null,
   "metadata": {},
   "outputs": [],
   "source": []
  }
 ],
 "metadata": {
  "kernelspec": {
   "display_name": "Python 3",
   "language": "python",
   "name": "python3"
  },
  "language_info": {
   "codemirror_mode": {
    "name": "ipython",
    "version": 3
   },
   "file_extension": ".py",
   "mimetype": "text/x-python",
   "name": "python",
   "nbconvert_exporter": "python",
   "pygments_lexer": "ipython3",
   "version": "3.6.5"
  }
 },
 "nbformat": 4,
 "nbformat_minor": 2
}
